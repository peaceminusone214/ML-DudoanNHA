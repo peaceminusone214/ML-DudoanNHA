{
 "cells": [
  {
   "cell_type": "code",
   "execution_count": 1,
   "id": "226459d6-774c-47b3-9c1e-c6e279ff65f5",
   "metadata": {},
   "outputs": [],
   "source": [
    "import numpy as np\n",
    "import pandas as pd\n",
    "import matplotlib.pyplot as plt\n",
    "from sklearn.neural_network import MLPClassifier\n",
    "from sklearn.metrics import confusion_matrix, accuracy_score, precision_score, recall_score, f1_score\n",
    "from sklearn.model_selection import GridSearchCV, train_test_split\n",
    "from imblearn.over_sampling import RandomOverSampler\n",
    "from ml_model_eval import pred_proba_plot, plot_cross_val_confusion_matrix, plot_learning_curve\n",
    "from sklearn.model_selection import StratifiedKFold, cross_val_score\n",
    "import seaborn as sns"
   ]
  },
  {
   "cell_type": "code",
   "execution_count": 2,
   "id": "6a05053c-ce3f-4196-9421-78e09d305ec8",
   "metadata": {},
   "outputs": [],
   "source": [
    "matches = pd.read_csv(\"../matches_after_preprocessing.csv\")"
   ]
  },
  {
   "cell_type": "code",
   "execution_count": 3,
   "id": "eda49ee6-d22f-44e6-bcec-07b552b8f8fa",
   "metadata": {},
   "outputs": [
    {
     "data": {
      "text/html": [
       "<div>\n",
       "<style scoped>\n",
       "    .dataframe tbody tr th:only-of-type {\n",
       "        vertical-align: middle;\n",
       "    }\n",
       "\n",
       "    .dataframe tbody tr th {\n",
       "        vertical-align: top;\n",
       "    }\n",
       "\n",
       "    .dataframe thead th {\n",
       "        text-align: right;\n",
       "    }\n",
       "</style>\n",
       "<table border=\"1\" class=\"dataframe\">\n",
       "  <thead>\n",
       "    <tr style=\"text-align: right;\">\n",
       "      <th></th>\n",
       "      <th>venue_code</th>\n",
       "      <th>opp_code</th>\n",
       "      <th>hour</th>\n",
       "      <th>day_code</th>\n",
       "    </tr>\n",
       "  </thead>\n",
       "  <tbody>\n",
       "    <tr>\n",
       "      <th>0</th>\n",
       "      <td>0</td>\n",
       "      <td>10</td>\n",
       "      <td>12</td>\n",
       "      <td>5</td>\n",
       "    </tr>\n",
       "    <tr>\n",
       "      <th>1</th>\n",
       "      <td>1</td>\n",
       "      <td>3</td>\n",
       "      <td>16</td>\n",
       "      <td>6</td>\n",
       "    </tr>\n",
       "    <tr>\n",
       "      <th>2</th>\n",
       "      <td>0</td>\n",
       "      <td>16</td>\n",
       "      <td>16</td>\n",
       "      <td>6</td>\n",
       "    </tr>\n",
       "    <tr>\n",
       "      <th>3</th>\n",
       "      <td>1</td>\n",
       "      <td>19</td>\n",
       "      <td>15</td>\n",
       "      <td>5</td>\n",
       "    </tr>\n",
       "    <tr>\n",
       "      <th>4</th>\n",
       "      <td>1</td>\n",
       "      <td>2</td>\n",
       "      <td>15</td>\n",
       "      <td>5</td>\n",
       "    </tr>\n",
       "    <tr>\n",
       "      <th>...</th>\n",
       "      <td>...</td>\n",
       "      <td>...</td>\n",
       "      <td>...</td>\n",
       "      <td>...</td>\n",
       "    </tr>\n",
       "    <tr>\n",
       "      <th>1717</th>\n",
       "      <td>0</td>\n",
       "      <td>17</td>\n",
       "      <td>14</td>\n",
       "      <td>6</td>\n",
       "    </tr>\n",
       "    <tr>\n",
       "      <th>1718</th>\n",
       "      <td>0</td>\n",
       "      <td>19</td>\n",
       "      <td>20</td>\n",
       "      <td>0</td>\n",
       "    </tr>\n",
       "    <tr>\n",
       "      <th>1719</th>\n",
       "      <td>1</td>\n",
       "      <td>9</td>\n",
       "      <td>15</td>\n",
       "      <td>5</td>\n",
       "    </tr>\n",
       "    <tr>\n",
       "      <th>1720</th>\n",
       "      <td>0</td>\n",
       "      <td>4</td>\n",
       "      <td>14</td>\n",
       "      <td>6</td>\n",
       "    </tr>\n",
       "    <tr>\n",
       "      <th>1721</th>\n",
       "      <td>1</td>\n",
       "      <td>13</td>\n",
       "      <td>16</td>\n",
       "      <td>6</td>\n",
       "    </tr>\n",
       "  </tbody>\n",
       "</table>\n",
       "<p>1479 rows × 4 columns</p>\n",
       "</div>"
      ],
      "text/plain": [
       "      venue_code  opp_code  hour  day_code\n",
       "0              0        10    12         5\n",
       "1              1         3    16         6\n",
       "2              0        16    16         6\n",
       "3              1        19    15         5\n",
       "4              1         2    15         5\n",
       "...          ...       ...   ...       ...\n",
       "1717           0        17    14         6\n",
       "1718           0        19    20         0\n",
       "1719           1         9    15         5\n",
       "1720           0         4    14         6\n",
       "1721           1        13    16         6\n",
       "\n",
       "[1479 rows x 4 columns]"
      ]
     },
     "execution_count": 3,
     "metadata": {},
     "output_type": "execute_result"
    }
   ],
   "source": [
    "train = matches[matches[\"date\"] < '2022-11-01']\n",
    "test = matches[matches[\"date\"] > '2022-11-01']\n",
    "predictors = [\"venue_code\", \"opp_code\", \"hour\", \"day_code\", \"gf_rolling\", \"ga_rolling\", \"sh_rolling\", \"sot_rolling\", \"dist_rolling\", \"fk_rolling\", \"pk_rolling\", \"pkatt_rolling\"]\n",
    "X_train = train[predictors]\n",
    "y_train = train[\"target\"]\n",
    "X_test = test[predictors]\n",
    "y_test = test[\"target\"]\n",
    "X_test.drop([\"gf_rolling\", \"ga_rolling\", \"sh_rolling\", \"sot_rolling\", \"dist_rolling\", \"fk_rolling\", \"pk_rolling\", \"pkatt_rolling\"], axis =1)"
   ]
  },
  {
   "cell_type": "code",
   "execution_count": 4,
   "id": "725ef6c8-75df-4955-bdd3-a4aa1f62db28",
   "metadata": {},
   "outputs": [],
   "source": [
    "# Tạo và huấn luyện mô hình MLP\n",
    "mlp = MLPClassifier(max_iter=500)\n",
    "mlp.fit(X_train, y_train)\n",
    "\n",
    "# Dự đoán kết quả\n",
    "preds = mlp.predict(X_test)\n",
    "\n",
    "# Tính toán các độ đo\n",
    "confusion_matrix = confusion_matrix(y_test, preds)\n",
    "accuracy_score = accuracy_score(y_test, preds)\n",
    "precision_score = precision_score(y_test, preds)\n",
    "recall_score = recall_score(y_test, preds)\n",
    "f1_score = f1_score(y_test, preds)"
   ]
  },
  {
   "cell_type": "code",
   "execution_count": 5,
   "id": "4d49db65-4435-4268-987b-08c1a2ab98d7",
   "metadata": {},
   "outputs": [
    {
     "name": "stdout",
     "output_type": "stream",
     "text": [
      "Confusion matrix: [[777 124]\n",
      " [406 172]]\n",
      "Accuracy score: 0.6416497633536173\n",
      "Precision score: 0.581081081081081\n",
      "Recall score: 0.2975778546712803\n",
      "F1 score: 0.39359267734553777\n"
     ]
    }
   ],
   "source": [
    "print(\"Confusion matrix:\", confusion_matrix)\n",
    "print(\"Accuracy score:\", accuracy_score)\n",
    "print(\"Precision score:\", precision_score)\n",
    "print(\"Recall score:\", recall_score)\n",
    "print(\"F1 score:\", f1_score)"
   ]
  },
  {
   "cell_type": "code",
   "execution_count": null,
   "id": "ebff29a0-38ab-4196-8e27-80a17f0b3e70",
   "metadata": {},
   "outputs": [],
   "source": [
    "hidden_layer_test = []\n",
    "for i in range(6,20,4):\n",
    " a = list(range(6,18,12))\n",
    " b = [i] * len(a)    \n",
    " c = list(zip(a, b))\n",
    " hidden_layer_test.extend(c)      \n",
    "mlp = MLPClassifier(max_iter=5000, random_state=0, activation='logistic')\n",
    "param_grid = {\n",
    "    'hidden_layer_sizes': hidden_layer_test,\n",
    "}\n",
    "# Tạo đối tượng GridSearchCV\n",
    "grid_search = GridSearchCV(mlp, param_grid, cv=5, n_jobs=-1)\n",
    "# Tiến hành tìm kiếm siêu tham số tốt nhất\n",
    "grid_search.fit(X_train, y_train)\n",
    "# Lấy mô hình tốt nhất\n",
    "best_mlp = grid_search.best_estimator_\n",
    "best_params = grid_search.best_params_"
   ]
  },
  {
   "cell_type": "code",
   "execution_count": null,
   "id": "80bc7be8-9a45-47df-9d7f-9cc60775e132",
   "metadata": {},
   "outputs": [],
   "source": [
    "best_mlp"
   ]
  },
  {
   "cell_type": "code",
   "execution_count": null,
   "id": "4e8d31f4-7ea9-4767-bb07-134ccbe3a75c",
   "metadata": {},
   "outputs": [],
   "source": [
    "best_params\n"
   ]
  },
  {
   "cell_type": "code",
   "execution_count": null,
   "id": "792515b1-76f1-4f55-9fb2-2cea5979a945",
   "metadata": {},
   "outputs": [],
   "source": [
    "# Dự đoán kết quả\n",
    "mlp = MLPClassifier(**best_params)\n",
    "mlp.fit(X_train, y_train)\n",
    "preds = mlp.predict(X_test)\n",
    "# Tính toán các độ đo\n",
    "confusion_matrix = confusion_matrix(y_test, preds)\n",
    "accuracy_score = accuracy_score(y_test, preds)\n",
    "precision_score = precision_score(y_test, preds)\n",
    "recall_score = recall_score(y_test, preds)\n",
    "f1_score = f1_score(y_test, preds)"
   ]
  },
  {
   "cell_type": "code",
   "execution_count": null,
   "id": "1f9e91c4-c596-420d-b727-1d661e99c1b8",
   "metadata": {},
   "outputs": [],
   "source": [
    "print(\"Confusion matrix:\", confusion_matrix)\n",
    "print(\"Accuracy score:\", accuracy_score)\n",
    "print(\"Precision score:\", precision_score)\n",
    "print(\"Recall score:\", recall_score)\n",
    "print(\"F1 score:\", f1_score)"
   ]
  },
  {
   "cell_type": "code",
   "execution_count": null,
   "id": "fba56a7f-3a8e-4af0-a2c6-ced9d1bb4305",
   "metadata": {},
   "outputs": [],
   "source": [
    "skf = StratifiedKFold(n_splits=5, shuffle=True)\n",
    "# Perform cross-validation\n",
    "cv_scores = cross_val_score(mlp, X_train, y_train, cv=skf)\n",
    "cv_accuracy = round(np.mean(cv_scores) * 100, 1)\n",
    "\n",
    "print('Cross-Validation Accuracy Score: ', cv_accuracy, '%')"
   ]
  },
  {
   "cell_type": "code",
   "execution_count": null,
   "id": "4d94e011-5c3f-4441-9497-4e68b1594ff1",
   "metadata": {},
   "outputs": [],
   "source": [
    "cv_scores"
   ]
  },
  {
   "cell_type": "code",
   "execution_count": null,
   "id": "9e41c8e5-ec41-463e-a18d-6e54d3fe840f",
   "metadata": {},
   "outputs": [],
   "source": [
    "plot_cross_val_confusion_matrix(confusion_matrix, display_labels='', title='MLP Confusion Matrix', cv=5)\n",
    "plt.show()"
   ]
  },
  {
   "cell_type": "code",
   "execution_count": null,
   "id": "95ae2685-258f-4706-b873-352bd992f1d1",
   "metadata": {},
   "outputs": [],
   "source": [
    "# Tạo ma trận dữ liệu Z\n",
    "matrix_plot_data = pd.DataFrame({})\n",
    "matrix_plot_data['x'] = list(zip(*hidden_layer_test))[0]\n",
    "matrix_plot_data['y'] = list(zip(*hidden_layer_test))[1]\n",
    "matrix_plot_data['z'] = grid_search.cv_results_['mean_test_score']\n",
    "Z = matrix_plot_data.pivot_table(index='x', columns='y', values='z').T.values\n",
    "\n",
    "# Lấy các giá trị duy nhất trên trục x và trục y\n",
    "X_unique = np.sort(matrix_plot_data.x.unique())\n",
    "Y_unique = np.sort(matrix_plot_data.y.unique())\n",
    "\n",
    "# Vẽ đồ thị heatmap\n",
    "fig, ax = plt.subplots()\n",
    "heatmap = sns.heatmap(Z, annot=True, linewidths=.5, ax=ax)\n",
    "\n",
    "# Thiết lập nhãn trục x và trục y\n",
    "ax.set_xticklabels(X_unique)\n",
    "ax.set_yticklabels(Y_unique)\n",
    "\n",
    "# Thiết lập tên trục\n",
    "ax.set(xlabel='Hidden Layer 1 Length', ylabel='Hidden Layer 2 Length')\n",
    "fig.suptitle('Cross Val Accuracy', y=0.95, fontsize=16, fontweight='bold')\n",
    "\n",
    "# Hiển thị đồ thị\n",
    "plt.show()"
   ]
  },
  {
   "cell_type": "code",
   "execution_count": null,
   "id": "c4a6cf86-431d-4f4b-b0f2-ffdc06c5eb15",
   "metadata": {},
   "outputs": [],
   "source": []
  }
 ],
 "metadata": {
  "kernelspec": {
   "display_name": "Python 3 (ipykernel)",
   "language": "python",
   "name": "python3"
  },
  "language_info": {
   "codemirror_mode": {
    "name": "ipython",
    "version": 3
   },
   "file_extension": ".py",
   "mimetype": "text/x-python",
   "name": "python",
   "nbconvert_exporter": "python",
   "pygments_lexer": "ipython3",
   "version": "3.11.5"
  }
 },
 "nbformat": 4,
 "nbformat_minor": 5
}
