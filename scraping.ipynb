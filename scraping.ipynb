{
 "cells": [
  {
   "cell_type": "code",
   "execution_count": 1,
   "id": "cceedc80-7d51-4526-b82c-304c7553dc90",
   "metadata": {},
   "outputs": [],
   "source": [
    "import requests"
   ]
  },
  {
   "cell_type": "code",
   "execution_count": 2,
   "id": "c7629cbe-6e26-4e5b-82e6-2289d4dc7eb6",
   "metadata": {},
   "outputs": [],
   "source": [
    "from bs4 import BeautifulSoup"
   ]
  },
  {
   "cell_type": "code",
   "execution_count": 3,
   "id": "6eba77eb-2326-4d44-8f12-52297db3cd47",
   "metadata": {},
   "outputs": [],
   "source": [
    "import pandas as pd"
   ]
  },
  {
   "cell_type": "code",
   "execution_count": 4,
   "id": "eefe3caf-d177-4638-9fc7-c3d2fc507d5a",
   "metadata": {},
   "outputs": [],
   "source": [
    "from io import StringIO"
   ]
  },
  {
   "cell_type": "code",
   "execution_count": 5,
   "id": "cd158cd1-902d-4127-a7d4-50b962eb15cf",
   "metadata": {},
   "outputs": [],
   "source": [
    "import time"
   ]
  },
  {
   "cell_type": "code",
   "execution_count": 6,
   "id": "d9fbaf9a-71c4-49b4-8b8d-c6f936b04c2d",
   "metadata": {},
   "outputs": [],
   "source": [
    "years = list(range(2024, 2020, -1))\n",
    "all_matches = []"
   ]
  },
  {
   "cell_type": "code",
   "execution_count": 7,
   "id": "12cde4f8-6333-4f91-a9fd-27ebf9b4f79e",
   "metadata": {},
   "outputs": [],
   "source": [
    "standings_url = \"https://fbref.com/en/comps/9/Premier-League-Stats\""
   ]
  },
  {
   "cell_type": "code",
   "execution_count": 8,
   "id": "eb2aa54b-e98b-4c51-87a7-8ca65fe63be7",
   "metadata": {},
   "outputs": [
    {
     "name": "stdout",
     "output_type": "stream",
     "text": [
      "Fetching data for 2024 - Status: 200\n",
      "Fetching data for 2023 - Status: 200\n",
      "Fetching data for 2022 - Status: 200\n",
      "Fetching data for 2021 - Status: 200\n"
     ]
    }
   ],
   "source": [
    "for year in years:\n",
    "    # Request the standings page\n",
    "    data = requests.get(standings_url)\n",
    "    print(f\"Fetching data for {year} - Status: {data.status_code}\")\n",
    "    if data.status_code != 200:\n",
    "        print(f\"Failed to fetch standings for {year}.\")\n",
    "        continue\n",
    "\n",
    "    # Parse the page with BeautifulSoup\n",
    "    soup = BeautifulSoup(data.text, 'html.parser')\n",
    "    \n",
    "    # Extract the standings table (index 0 for first table)\n",
    "    standings_table = soup.select('table.stats_table')[0]\n",
    "    \n",
    "    # Extract all the team URLs\n",
    "    links = [l.get(\"href\") for l in standings_table.find_all('a')]\n",
    "    links = [l for l in links if '/squads/' in l]\n",
    "    team_urls = [f\"https://fbref.com{l}\" for l in links]\n",
    "    \n",
    "    # Get the URL for the previous season to continue scraping\n",
    "    previous_season = soup.select(\"a.prev\")[0].get(\"href\")\n",
    "    standings_url = f\"https://fbref.com{previous_season}\"\n",
    "    \n",
    "    # Loop through each team URL\n",
    "    for team_url in team_urls:\n",
    "        team_name = team_url.split(\"/\")[-1].replace(\"-Stats\", \"\").replace(\"-\", \" \")\n",
    "        \n",
    "        # Request team data (matches & fixtures)\n",
    "        data = requests.get(team_url)\n",
    "        if data.status_code != 200:\n",
    "            print(f\"Failed to fetch data for {team_name}.\")\n",
    "            continue\n",
    "        \n",
    "        # Parse matches and fixtures table\n",
    "        matches = pd.read_html(StringIO(data.text), match=\"Scores & Fixtures\")[0]\n",
    "        \n",
    "        # Parse the shooting data\n",
    "        soup = BeautifulSoup(data.text, 'html.parser')\n",
    "        links = [l.get(\"href\") for l in soup.find_all('a')]\n",
    "        links = [l for l in links if l and 'all_comps/shooting/' in l]\n",
    "        \n",
    "        if links:\n",
    "            shooting_data_url = f\"https://fbref.com{links[0]}\"\n",
    "            data = requests.get(shooting_data_url)\n",
    "            shooting = pd.read_html(StringIO(data.text), match=\"Shooting\")[0]\n",
    "            shooting.columns = shooting.columns.droplevel()\n",
    "\n",
    "            # Merge matches with shooting data\n",
    "            try:\n",
    "                team_data = matches.merge(shooting[[\"Date\", \"Sh\", \"SoT\", \"Dist\", \"FK\", \"PK\", \"PKatt\"]], on=\"Date\")\n",
    "            except ValueError as e:\n",
    "                print(f\"Merge failed for {team_name}: {e}\")\n",
    "                continue\n",
    "\n",
    "            # Filter to only Premier League matches\n",
    "            team_data = team_data[team_data[\"Comp\"] == \"Premier League\"]\n",
    "            \n",
    "            # Add season and team name to the data\n",
    "            team_data[\"Season\"] = year\n",
    "            team_data[\"Team\"] = team_name\n",
    "            all_matches.append(team_data)\n",
    "        \n",
    "        # Sleep to avoid making too many requests in a short time\n",
    "        time.sleep(10)"
   ]
  },
  {
   "cell_type": "code",
   "execution_count": 9,
   "id": "06b76c29-c8cc-420c-bea7-e2a6ee79b1b6",
   "metadata": {},
   "outputs": [
    {
     "name": "stdout",
     "output_type": "stream",
     "text": [
      "Number of rows in match_df: 2500\n"
     ]
    }
   ],
   "source": [
    "if all_matches:\n",
    "    match_df = pd.concat(all_matches)\n",
    "    match_df.columns = [c.lower() for c in match_df.columns]  # Ensure column names are lowercase\n",
    "    print(f\"Number of rows in match_df: {match_df.shape[0]}\")\n",
    "    \n",
    "    # Save to CSV if data is present\n",
    "    match_df.to_csv(\"matches_2020_2024.csv\", index=False)\n",
    "else:\n",
    "    print(\"No data available to save.\")"
   ]
  },
  {
   "cell_type": "code",
   "execution_count": null,
   "id": "ec0e82f4-b13d-4277-982a-0c3b32ddde56",
   "metadata": {},
   "outputs": [],
   "source": []
  },
  {
   "cell_type": "code",
   "execution_count": null,
   "id": "0703b19d-b5cc-48ae-a6dd-054711b8ab1e",
   "metadata": {},
   "outputs": [],
   "source": []
  }
 ],
 "metadata": {
  "kernelspec": {
   "display_name": "Python 3 (ipykernel)",
   "language": "python",
   "name": "python3"
  },
  "language_info": {
   "codemirror_mode": {
    "name": "ipython",
    "version": 3
   },
   "file_extension": ".py",
   "mimetype": "text/x-python",
   "name": "python",
   "nbconvert_exporter": "python",
   "pygments_lexer": "ipython3",
   "version": "3.11.5"
  }
 },
 "nbformat": 4,
 "nbformat_minor": 5
}
